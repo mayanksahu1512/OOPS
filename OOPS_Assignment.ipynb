{
  "nbformat": 4,
  "nbformat_minor": 0,
  "metadata": {
    "colab": {
      "provenance": []
    },
    "kernelspec": {
      "name": "python3",
      "display_name": "Python 3"
    },
    "language_info": {
      "name": "python"
    }
  },
  "cells": [
    {
      "cell_type": "markdown",
      "source": [
        "Q.1 What is Object-Oriented Programming (OOP)?\n",
        "  - Object-Oriented Programming (OOP) is a programming paradigm that organizes software design around objects rather than functions and logic. It aims to model real-world entities and their interactions within a program, making code more structured, reusable, and maintainable.\n",
        "\n",
        "Core Concepts (The Four Pillars of OOP):\n",
        "\n",
        "Encapsulation: This principle involves bundling data (attributes) and the methods (functions) that operate on that data into a single unit, known as a class. It promotes data hiding by restricting direct access to an object's internal state, and instead provides controlled access through public methods (like getter and setter methods). This enhances data security and integrity.\n",
        "\n",
        "Abstraction: Abstraction focuses on simplifying complex systems by presenting only essential features and hiding unnecessary implementation details from the user. It allows developers to focus on what an object does rather than how it does it, improving code readability and manageability.\n",
        "\n",
        "Inheritance: This mechanism allows a new class (child or derived class) to inherit properties (attributes) and behaviors (methods) from an existing class (parent or base class). Inheritance promotes code reusability, reduces redundancy, and establishes a hierarchical relationship between classes.\n",
        "\n",
        "Polymorphism: Meaning \"many forms,\" polymorphism enables objects of different classes to be treated as instances of a common base class, allowing a single interface to be used for a general class of actions. This is achieved through methods like method overloading (compile-time polymorphism) and method overriding (runtime polymorphism), where the same method name can perform different tasks based on the object or context"
      ],
      "metadata": {
        "id": "uFiu3jtJrm1M"
      }
    },
    {
      "cell_type": "markdown",
      "source": [
        "Q.2 - What is a class in OOP?\n",
        "  - In Object-Oriented Programming (OOP), a class serves as a blueprint or template for creating objects. It's a logical construct that defines the shared characteristics (data/attributes) and behaviors (functions/methods) that all objects created from that class will possess."
      ],
      "metadata": {
        "id": "mmr8fL5jsH6F"
      }
    },
    {
      "cell_type": "markdown",
      "source": [
        "Q.3-  What is an object in OOP?\n",
        "  - In OOP, an object is a specific, tangible instance of a class. It's the actual entity created from a class's blueprint, possessing its own unique state (attribute values) and capable of performing behaviors (methods) defined by its class.\n",
        "Think: Class = blueprint, Object = the actual thing built from the blueprint."
      ],
      "metadata": {
        "id": "_q1L1f3TsWg1"
      }
    },
    {
      "cell_type": "markdown",
      "source": [
        "Q.4- What is the difference between abstraction and encapsulation?\n",
        "  - Abstraction: Hides implementation details to simplify usage; focuses on what an object does. (e.g., car pedals)\n",
        "Encapsulation: Hides data and internal state within a class to protect it; focuses on how data is managed securely. (e.g., medicine capsule)\n",
        "Abstraction simplifies, Encapsulation protects."
      ],
      "metadata": {
        "id": "jC0SEvkrsmhb"
      }
    },
    {
      "cell_type": "markdown",
      "source": [
        "Q.5- What are dunder methods in Python?\n",
        "  - Dunder methods (or magic methods) in Python are special methods with double underscores (e.g., __init__, __str__). They allow you to:\n",
        "Customize object behavior for built-in operations and functions (like +, len(), str()).\n",
        "Are implicitly invoked by the Python interpreter, not called directly.\n",
        "They enable \"Pythonic\" code by letting your objects act like native types."
      ],
      "metadata": {
        "id": "fgNJA-V4s0uD"
      }
    },
    {
      "cell_type": "markdown",
      "source": [
        "Q.6- Explain the concept of inheritance in OOP.\n",
        "  - Inheritance in OOP is when a new class (child class) gains properties and behaviors (attributes and methods) from an existing class (parent class).\n",
        "It creates an \"is-a\" relationship (e.g., \"Dog is an Animal\"), promoting code reusability and establishing class hierarchies. Child classes can also add new features or modify inherited ones."
      ],
      "metadata": {
        "id": "LTQxCgz0tJ9g"
      }
    },
    {
      "cell_type": "markdown",
      "source": [
        "Q.7- What is polymorphism in OOP?\n",
        "  - Polymorphism in OOP means \"many forms.\" It's the ability of objects of different classes to respond to the same method call in a way specific to their own class.\n",
        "Key ideas:\n",
        "Single interface, multiple implementations: You can have one way to call a method (e.g., speak()), but depending on the object's type, it performs a different action (a Dog barks, a Cat meows).\n",
        "Method Overriding: Subclasses provide their own specific implementation of a method already defined in their superclass.\n",
        "Method Overloading (in some languages): Multiple methods with the same name exist within a class but differ in their parameters.\n",
        "Benefit: Allows for flexible, extensible, and more readable code by treating related objects uniformly through a common interface."
      ],
      "metadata": {
        "id": "eCOkfQURt9bs"
      }
    },
    {
      "cell_type": "markdown",
      "source": [
        "Q.8- How is encapsulation achieved in Python?\n",
        "  - In Python, encapsulation is achieved through conventions and features that encourage controlled access to data and methods, rather than strict enforcement via keywords like private or protected found in other languages.\n",
        "\n",
        "Here's how it's commonly implemented:\n",
        "\n",
        "Naming Conventions (Underscores):\n",
        "\n",
        "Single Leading Underscore (_attribute): This is a convention indicating a \"protected\" member, meant for internal use within the class or its subclasses. While still technically accessible from outside, it signals to other developers that it's not part of the public API and should be treated with caution.\n",
        "\n",
        "Double Leading Underscore (__attribute): This triggers Python's \"name mangling\" feature, making the attribute harder to access directly from outside the class (e.g., __balance becomes _ClassName__balance). This provides a stronger, though not absolute, form of \"privacy\" and helps prevent naming conflicts in subclasses.\n",
        "\n",
        "Properties (@property decorator):\n",
        "\n",
        "This is the most Pythonic way to implement controlled access (getters and setters) to attributes, especially for validation or derived values.\n",
        "\n",
        "You define methods for getting (@property) and setting (@attribute.setter) an attribute, allowing you to add logic or validation while still accessing them like regular attributes.\n",
        "\n",
        "In essence, Python's encapsulation relies on developer discipline and conventions, using underscores and properties to signal intended visibility and manage access to internal data and methods."
      ],
      "metadata": {
        "id": "SNDnWH8quK0_"
      }
    },
    {
      "cell_type": "markdown",
      "source": [
        "Q.9- What is a constructor in Python?\n",
        "  - In Python, the constructor is the __init__ dunder method. It's automatically called when a new object is created to initialize its attributes and set up its initial state. Think of it as the setup function for a new instance."
      ],
      "metadata": {
        "id": "ciV2UAc_uygU"
      }
    },
    {
      "cell_type": "markdown",
      "source": [
        "Q.10- What are class and static methods in Python?\n",
        "  - In Python, class methods and static methods are alternative ways to define methods within a class, differing from regular instance methods in how they are bound and accessed:\n",
        "\n",
        "Class Methods (@classmethod)\n",
        "\n",
        "Decorator: Marked with @classmethod.\n",
        "\n",
        "First Argument: Takes cls (conventionally) as its first argument, which refers to the class itself, not an instance.\n",
        "\n",
        "Purpose: Primarily used for methods that operate on the class as a whole or to create alternative constructors (e.g., from_string factory methods). They can access and modify class-level attributes.\n",
        "\n",
        "Usage: Can be called on the class (ClassName.method()) or an instance (instance.method()), but always receive the class as cls.\n",
        "\n",
        "Static Methods (@staticmethod)\n",
        "\n",
        "Decorator: Marked with @staticmethod.\n",
        "\n",
        "No Special First Argument: Takes no special first argument like self or cls. It's essentially a regular function logically grouped within a class.\n",
        "\n",
        "Purpose: Used for utility functions that belong logically to the class but don't need to access or modify either instance-specific data or class-specific data. They don't interact with the instance or the class state.\n",
        "\n",
        "Usage: Can be called on the class (ClassName.method()) or an instance (instance.method())."
      ],
      "metadata": {
        "id": "3ZC0pJsyu-uh"
      }
    },
    {
      "cell_type": "markdown",
      "source": [
        "Q.11- What is method overloading in Python?\n",
        "  - Method overloading means having multiple methods with the same name but different parameters in one class.\n",
        "\n",
        "Python does NOT natively support true method overloading (it just overwrites earlier definitions).\n",
        "\n",
        "Instead, achieve similar flexibility using:\n",
        "\n",
        "Default parameter values\n",
        "\n",
        "Variable arguments (*args, **kwargs)\n",
        "\n",
        "Manual type checking within a single method."
      ],
      "metadata": {
        "id": "P9FoLQ18vemY"
      }
    },
    {
      "cell_type": "markdown",
      "source": [
        "Q.12- What is method overriding in OOP?\n",
        "  - Method overriding in Object-Oriented Programming (OOP) is when a subclass (child class) provides its own specific implementation of a method that is already defined in its superclass (parent class).\n",
        "\n",
        "Key points:\n",
        "\n",
        "Same Name, Same Signature: The overridden method in the child class must have the exact same name and parameters as the method in the parent class.\n",
        "\n",
        "Specialized Behavior: It allows a child class to provide a more specific or different behavior for an inherited method without changing the parent class's implementation.\n",
        "\n",
        "Polymorphism: Method overriding is a key mechanism for achieving runtime polymorphism, where the specific method executed depends on the actual type of the object at runtime, not just the declared type.\n",
        "\n",
        "Example:\n",
        "\n",
        "A Dog class might override the speak() method inherited from an Animal class to bark(), while a Cat class would override it to meow(). All are speak(), but the behavior is specific to the animal type."
      ],
      "metadata": {
        "id": "aGzyDsRivyZF"
      }
    },
    {
      "cell_type": "markdown",
      "source": [
        "Q.13- What is a property decorator in Python?\n",
        "  - The @property decorator in Python turns a method into an attribute, allowing you to control access (read, write, delete) to class data. It lets you add logic (like validation) when an attribute is accessed or modified, while keeping the simple object.attribute syntax for better encapsulation and cleaner code."
      ],
      "metadata": {
        "id": "K5b6iNi8wDEx"
      }
    },
    {
      "cell_type": "markdown",
      "source": [
        "Q.14- Why is polymorphism important in OOP?\n",
        "  - Polymorphism is crucial in OOP because it promotes flexibility, extensibility, and code reusability.\n",
        "\n",
        "Here's why it's important:\n",
        "\n",
        "Flexibility and Extensibility: It allows you to write code that can work with objects of different types through a common interface. This means you can add new subclasses without modifying existing code, making your system more adaptable to change.\n",
        "\n",
        "Code Reusability: You can write generic functions or methods that operate on a base class, and they will automatically work correctly with any of its subclasses, reducing code duplication.\n",
        "\n",
        "Cleaner, More Readable Code: By treating diverse objects uniformly, polymorphism simplifies your code, making it more organized, easier to understand, and less prone to conditional if-else branching based on object types.\n",
        "\n",
        "Decoupling: It decouples the calling code from the specific implementation details of different objects, leading to more modular and maintainable systems.\n",
        "\n",
        "In short, polymorphism enables you to design systems that are robust, easy to extend, and efficient to maintain by allowing \"one interface, many implementations.\""
      ],
      "metadata": {
        "id": "WqfZeTgCwjUM"
      }
    },
    {
      "cell_type": "markdown",
      "source": [
        "Q.15- What is an abstract class in Python?\n",
        "  - An abstract class in Python is a class that cannot be directly instantiated and serves as a blueprint for other classes. It forces subclasses to implement specific abstract methods (defined with @abstractmethod from the abc module), enforcing a common interface and enabling abstraction."
      ],
      "metadata": {
        "id": "trhWkpFAw2Rz"
      }
    },
    {
      "cell_type": "markdown",
      "source": [
        "Q.16- What are the advantages of OOP?\n",
        "  - The advantages of Object-Oriented Programming (OOP) include:\n",
        "\n",
        "Modularity & Reusability: Encapsulates data and methods into self-contained objects, making code easier to reuse and manage.\n",
        "\n",
        "Maintainability & Scalability: Structured design makes code easier to understand, debug, modify, and extend.\n",
        "\n",
        "Improved Security: Encapsulation protects data by controlling access to internal states.\n",
        "\n",
        "Real-World Modeling: Allows for intuitive mapping of real-world entities and their interactions, leading to more understandable solutions.\n",
        "\n",
        "Flexibility (via Polymorphism): Enables code to work with objects of different types through a common interface, fostering extensibility.\n",
        "\n",
        "Reduced Complexity: Abstraction simplifies systems by focusing on essential features and hiding intricate details."
      ],
      "metadata": {
        "id": "AcyJruKSxFKX"
      }
    },
    {
      "cell_type": "markdown",
      "source": [
        "Q.17- What is the difference between a class variable and an instance variable?\n",
        "  - Class Variable: Belongs to the class, shared by all instances. (e.g., ClassName.variable)\n",
        "\n",
        "Instance Variable: Belongs to each individual instance, unique to each object. (e.g., self.variable)\n",
        "\n",
        "Class variables are shared; instance variables are unique to each object."
      ],
      "metadata": {
        "id": "kUngdexZxTse"
      }
    },
    {
      "cell_type": "markdown",
      "source": [
        "Q.18- What is multiple inheritance in Python?\n",
        "  - Multiple inheritance in Python allows a class to inherit from multiple parent classes, combining their attributes and methods.\n",
        "When conflicts arise (same method name in multiple parents), Python uses the Method Resolution Order (MRO) to determine which implementation to use, preventing ambiguity."
      ],
      "metadata": {
        "id": "Iq3o_uK5xiI7"
      }
    },
    {
      "cell_type": "markdown",
      "source": [
        "Q.19- Explain the purpose of ‘’__str__’ and ‘__repr__’ ‘ methods in Python.\n",
        "  - The __str__ and __repr__ methods in Python are special \"dunder\" methods used to provide string representations of objects, but they serve different purposes and are aimed at different audiences.\n",
        "\n",
        "__str__(self):\n",
        "\n",
        "Purpose: To provide a human-readable, \"nice\" string representation of an object. It's meant for end-users and is what you see when you print() an object or use str().\n",
        "\n",
        "Goal: Readability and clarity for consumption, often omitting detailed internal information.\n",
        "\n",
        "Example: For a Date object, __str__ might return \"August 7, 2025\".\n",
        "\n",
        "__repr__(self):\n",
        "\n",
        "Purpose: To provide an unambiguous, developer-focused string representation of an object. It's meant for programmers and is typically used for debugging and introspection. Ideally, the __repr__ string should be unambiguous and, if possible, allow recreation of the object using eval().\n",
        "\n",
        "Goal: Exactness and detail, often including the class name and key attribute values for recreation or precise identification.\n",
        "\n",
        "Example: For the same Date object, __repr__ might return Date(year=2025, month=8, day=7).\n",
        "\n",
        "In short:\n",
        "\n",
        "__str__ for print() (readable, for users).\n",
        "__repr__ for debugging/introspection (detailed, for developers).\n",
        "If __str__ is not defined, Python falls back to __repr__ when str() is called. If neither is defined, Python uses a default generic representation."
      ],
      "metadata": {
        "id": "B6RuMtSxxsI5"
      }
    },
    {
      "cell_type": "markdown",
      "source": [
        "Q.20- What is the significance of the ‘super()’ function in Python?\n",
        "  - The super() function in Python holds significant importance in the context of object-oriented programming, particularly concerning inheritance. Its primary significance lies in providing a mechanism to access methods and attributes of a parent or superclass from a child or subclass."
      ],
      "metadata": {
        "id": "I_fHqO8Nx_jy"
      }
    },
    {
      "cell_type": "markdown",
      "source": [
        "Q.21- What is the significance of the __del__ method in Python?\n",
        "  - The __del__ method in Python serves as a destructor, automatically invoked when an object is about to be destroyed, typically during garbage collection. Its primary significance lies in enabling cleanup actions for resources held by the object."
      ],
      "metadata": {
        "id": "nhXXDNSUyOXX"
      }
    },
    {
      "cell_type": "markdown",
      "source": [
        "Q.22- What is the difference between @staticmethod and @classmethod in Python?\n",
        "  - The primary difference between @staticmethod and @classmethod in Python lies in their access to the class and its instances.\n",
        "\n",
        "@staticmethod\n",
        "\n",
        "Purpose:\n",
        "\n",
        "Defines a method that behaves like a regular function but is logically related to the class. It does not operate on the instance or the class itself.\n",
        "\n",
        "Parameters:\n",
        "\n",
        "It does not receive any implicit first argument (like self for instance methods or cls for class methods).\n",
        "\n",
        "Access:\n",
        "\n",
        "Cannot access or modify class-level attributes or instance-specific data.\n",
        "Use Cases:\n",
        "\n",
        "Ideal for utility functions that are part of the class's logical scope but do not depend on the class's state or instance data.\n",
        "\n",
        "@classmethod\n",
        "\n",
        "Purpose:\n",
        "\n",
        "Defines a method that operates on the class itself, rather than an instance of the class.\n",
        "\n",
        "Parameters:\n",
        "\n",
        "Receives the class itself as the first implicit argument, conventionally named cls.\n",
        "\n",
        "Access:\n",
        "\n",
        "Can access and modify class-level attributes and call other class methods.\n",
        "\n",
        "Use Cases:\n",
        "\n",
        "Commonly used for factory methods (alternative constructors), modifying class-level attributes, or operations that need access to the class's state."
      ],
      "metadata": {
        "id": "RUZzb7rryXJ9"
      }
    },
    {
      "cell_type": "markdown",
      "source": [
        "Q.23-  How does polymorphism work in Python with inheritance?\n",
        "  - Polymorphism in Python, particularly in conjunction with inheritance, allows objects of different classes to be treated as objects of a common type. This is achieved primarily through method overriding.\n",
        "\n",
        "Here's how it works:\n",
        "\n",
        "Inheritance:\n",
        "\n",
        "A parent class (superclass) defines a method. Child classes (subclasses) inherit this method.\n",
        "\n",
        "Method Overriding:\n",
        "\n",
        "A child class can provide its own specific implementation for a method that it inherited from its parent class. This means the child class \"overrides\" the parent's method with its own version.\n",
        "\n",
        "Dynamic Binding:\n",
        "\n",
        "When you call a method on an object, Python determines which implementation of that method to use at runtime based on the actual type of the object, not just the type of the variable holding the object. If the object's class has overridden the method, that overridden version is executed. Otherwise, the inherited method from the parent class is used."
      ],
      "metadata": {
        "id": "Re0xTAyjysSX"
      }
    },
    {
      "cell_type": "markdown",
      "source": [
        "Q.24- What is method chaining in Python OOP?\n",
        "  - Method chaining in Python Object-Oriented Programming (OOP) is a technique that allows for the sequential invocation of multiple methods on the same object within a single line of code. This is achieved by having each method in the chain return the object itself (typically self) after performing its action."
      ],
      "metadata": {
        "id": "__VUM40Yy-Fp"
      }
    },
    {
      "cell_type": "markdown",
      "source": [
        "Q.25- What is the purpose of the __call__ method in Python?\n",
        "  - The __call__ method in Python allows instances of a class to be invoked or called as if they were regular functions. When this method is defined within a class, calling an object of that class (e.g., my_object()) automatically triggers the execution of the __call__ method.\n",
        "\n",
        "The primary purposes and benefits of using the __call__ method include:\n",
        "\n",
        "Creating Callable Objects:\n",
        "\n",
        "It enables objects to behave like functions, allowing for more flexible and reusable code. This is particularly useful when an object needs to encapsulate both data and a specific operation that can be directly invoked.\n",
        "\n",
        "Implementing Decorators:\n",
        "\n",
        "__call__ is frequently used in implementing class-based decorators, where the decorator itself is an instance of a class that modifies the behavior of a function or method.\n",
        "\n",
        "Function Factories:\n",
        "\n",
        "It can be used to create \"function factories,\" where an object generates and returns functions with specific behaviors based on internal state or parameters passed during the object's creation.\n",
        "\n",
        "Maintaining State in Callable Objects:\n",
        "\n",
        "Unlike simple functions, callable objects can maintain state between calls, which can be advantageous in scenarios requiring persistent data or complex internal logic.\n",
        "\n",
        "Encapsulating Functionality:\n",
        "\n",
        "It allows for the encapsulation of functionality within an object, promoting organized and maintainable code by combining data and the operations that act upon it."
      ],
      "metadata": {
        "id": "KLnW5mC0zGqn"
      }
    },
    {
      "cell_type": "markdown",
      "source": [
        "#Practical Questions"
      ],
      "metadata": {
        "id": "SKX9Q4z1zYvF"
      }
    },
    {
      "cell_type": "code",
      "source": [
        "#Q.1- Create a parent class Animal with a method speak() that prints a generic message. Create a child class Dog that overrides the speak() method to print \"Bark!\".\n",
        "\n",
        "# Parent class\n",
        "class Animal:\n",
        "    def speak(self):\n",
        "        print(\"The animal makes a sound.\")\n",
        "\n",
        "# Child class\n",
        "class Dog(Animal):\n",
        "    def speak(self):\n",
        "        print(\"Bark!\")\n",
        "\n",
        "# Test the classes\n",
        "generic_animal = Animal()\n",
        "generic_animal.speak()  # Output: The animal makes a sound.\n",
        "\n",
        "dog = Dog()\n",
        "dog.speak()  # Output: Bark!\n"
      ],
      "metadata": {
        "colab": {
          "base_uri": "https://localhost:8080/"
        },
        "id": "imy-08lIzf1N",
        "outputId": "2fcbed0c-56d4-4ee7-856b-b1f91b710222"
      },
      "execution_count": 1,
      "outputs": [
        {
          "output_type": "stream",
          "name": "stdout",
          "text": [
            "The animal makes a sound.\n",
            "Bark!\n"
          ]
        }
      ]
    },
    {
      "cell_type": "code",
      "source": [
        "#Q.2-  Write a program to create an abstract class Shape with a method area(). Derive classes Circle and Rectangle from it and implement the area() method in both.\n",
        "\n",
        "from abc import ABC, abstractmethod\n",
        "import math\n",
        "\n",
        "# Abstract base class\n",
        "class Shape(ABC):\n",
        "    @abstractmethod\n",
        "    def area(self):\n",
        "        pass\n",
        "\n",
        "# Derived class for Circle\n",
        "class Circle(Shape):\n",
        "    def __init__(self, radius):\n",
        "        self.radius = radius\n",
        "\n",
        "    def area(self):\n",
        "        return math.pi * self.radius ** 2\n",
        "\n",
        "# Derived class for Rectangle\n",
        "class Rectangle(Shape):\n",
        "    def __init__(self, width, height):\n",
        "        self.width = width\n",
        "        self.height = height\n",
        "\n",
        "    def area(self):\n",
        "        return self.width * self.height\n",
        "\n",
        "# Test the classes\n",
        "circle = Circle(5)\n",
        "print(\"Area of Circle:\", circle.area())  # Output: Area of Circle: 78.53981633974483\n",
        "\n",
        "rectangle = Rectangle(4, 6)\n",
        "print(\"Area of Rectangle:\", rectangle.area())  # Output: Area of Rectangle: 24\n"
      ],
      "metadata": {
        "colab": {
          "base_uri": "https://localhost:8080/"
        },
        "id": "dYZqht4Oz0eF",
        "outputId": "5607a92e-53ea-4140-d448-35368734ac38"
      },
      "execution_count": 2,
      "outputs": [
        {
          "output_type": "stream",
          "name": "stdout",
          "text": [
            "Area of Circle: 78.53981633974483\n",
            "Area of Rectangle: 24\n"
          ]
        }
      ]
    },
    {
      "cell_type": "code",
      "source": [
        "#Q.3- Implement a multi-level inheritance scenario where a class Vehicle has an attribute type. Derive a class Car and further derive a class ElectricCar that adds a battery attribute.\n",
        "\n",
        "# Base class\n",
        "class Vehicle:\n",
        "    def __init__(self, vehicle_type):\n",
        "        self.type = vehicle_type\n",
        "\n",
        "# Derived class from Vehicle\n",
        "class Car(Vehicle):\n",
        "    def __init__(self, vehicle_type, brand):\n",
        "        super().__init__(vehicle_type)\n",
        "        self.brand = brand\n",
        "\n",
        "# Further derived class from Car\n",
        "class ElectricCar(Car):\n",
        "    def __init__(self, vehicle_type, brand, battery_capacity):\n",
        "        super().__init__(vehicle_type, brand)\n",
        "        self.battery = battery_capacity"
      ],
      "metadata": {
        "id": "RN9_nIbJ0Dn-"
      },
      "execution_count": 5,
      "outputs": []
    },
    {
      "cell_type": "code",
      "source": [
        "#Q.4-  Demonstrate polymorphism by creating a base class Bird with a method fly(). Create two derived classes Sparrow and Penguin that override the fly() method.\n",
        "\n",
        "# Base class\n",
        "class Bird:\n",
        "    def fly(self):\n",
        "        print(\"This bird can fly in its own way.\")\n",
        "\n",
        "# Derived class 1\n",
        "class Sparrow(Bird):\n",
        "    def fly(self):\n",
        "        print(\"Sparrow flies high in the sky.\")\n",
        "\n",
        "# Derived class 2\n",
        "class Penguin(Bird):\n",
        "    def fly(self):\n",
        "        print(\"Penguins cannot fly, but they can swim well.\")\n",
        "\n",
        "# Function to demonstrate polymorphism\n",
        "def bird_fly_test(bird):\n",
        "    bird.fly()\n",
        "\n",
        "# Create objects\n",
        "sparrow = Sparrow()\n",
        "penguin = Penguin()\n",
        "\n",
        "# Test polymorphism\n",
        "bird_fly_test(sparrow)   # Output: Sparrow flies high in the s\n"
      ],
      "metadata": {
        "colab": {
          "base_uri": "https://localhost:8080/"
        },
        "id": "M8Gv8fSQ0bHS",
        "outputId": "935f7549-6e25-4931-e1fa-7c4f037307d3"
      },
      "execution_count": 7,
      "outputs": [
        {
          "output_type": "stream",
          "name": "stdout",
          "text": [
            "Sparrow flies high in the sky.\n"
          ]
        }
      ]
    },
    {
      "cell_type": "code",
      "source": [
        "#Q.5-  Write a program to demonstrate encapsulation by creating a class BankAccount with private attributes balance and methods to deposit, withdraw, and check balance.\n",
        "\n",
        "class BankAccount:\n",
        "    def __init__(self, initial_balance=0):\n",
        "        self.__balance = initial_balance  # Private attribute\n",
        "\n",
        "    def deposit(self, amount):\n",
        "        if amount > 0:\n",
        "            self.__balance += amount\n",
        "            print(f\"Deposited: ₹{amount}\")\n",
        "        else:\n",
        "            print(\"Invalid deposit amount.\")\n",
        "\n",
        "    def withdraw(self, amount):\n",
        "        if 0 < amount <= self.__balance:\n",
        "            self.__balance -= amount\n",
        "            print(f\"Withdrawn: ₹{amount}\")\n",
        "        else:\n",
        "            print(\"Insufficient balance or invalid amount.\")\n",
        "\n",
        "    def check_balance(self):\n",
        "        print(f\"Current Balance: ₹{self.__balance}\")\n",
        "\n",
        "\n",
        "# Test the class\n",
        "account = BankAccount(1000)\n",
        "account.check_balance()    # Output: Current Balance: ₹1000\n",
        "\n",
        "account.deposit(500)\n",
        "account.check_balance()\n",
        "account.withdraw(200)\n",
        "account.check_balance()\n",
        "account.withdraw(2000)\n",
        "account.check_balance()"
      ],
      "metadata": {
        "colab": {
          "base_uri": "https://localhost:8080/"
        },
        "id": "J2EXBwxg0k7p",
        "outputId": "15a34cee-3c7d-474a-b26a-03de90970ed9"
      },
      "execution_count": 10,
      "outputs": [
        {
          "output_type": "stream",
          "name": "stdout",
          "text": [
            "Current Balance: ₹1000\n",
            "Deposited: ₹500\n",
            "Current Balance: ₹1500\n",
            "Withdrawn: ₹200\n",
            "Current Balance: ₹1300\n",
            "Insufficient balance or invalid amount.\n",
            "Current Balance: ₹1300\n"
          ]
        }
      ]
    },
    {
      "cell_type": "code",
      "source": [
        "#Q.6 -  Demonstrate runtime polymorphism using a method play() in a base class Instrument. Derive classes Guitar and Piano that implement their own version of play().\n",
        "\n",
        "# Base class\n",
        "class Instrument:\n",
        "    def play(self):\n",
        "        print(\"The instrument is being played.\")\n",
        "\n",
        "# Derived class 1\n",
        "class Guitar(Instrument):\n",
        "    def play(self):\n",
        "        print(\"Strumming the guitar.\")\n",
        "\n",
        "# Derived class 2\n",
        "class Piano(Instrument):\n",
        "    def play(self):\n",
        "        print(\"Playing the piano.\")\n",
        "\n",
        "# Function to demonstrate runtime polymorphism\n",
        "def perform_play(instrument):\n",
        "    instrument.play()\n",
        "\n",
        "# Create objects\n",
        "instr1 = Guitar()\n",
        "instr2 = Piano()\n",
        "\n",
        "# Call the same method on different objects\n",
        "perform_play(instr1)   # Output: Strumming the guitar.\n",
        "perform_play(instr2)   # Output: Playing the piano.\n"
      ],
      "metadata": {
        "colab": {
          "base_uri": "https://localhost:8080/"
        },
        "id": "COfOYA6u1GG2",
        "outputId": "d474cb7f-cb1b-48c5-d5a8-566ea89a7789"
      },
      "execution_count": 13,
      "outputs": [
        {
          "output_type": "stream",
          "name": "stdout",
          "text": [
            "Strumming the guitar.\n",
            "Playing the piano.\n"
          ]
        }
      ]
    },
    {
      "cell_type": "code",
      "source": [
        "#Q.7-  Create a class MathOperations with a class method add_numbers() to add two numbers and a static method subtract_numbers() to subtract two numbers.\n",
        "\n",
        "class MathOperations:\n",
        "    # Class method to add two numbers\n",
        "    @classmethod\n",
        "    def add_numbers(cls, a, b):\n",
        "        return a + b\n",
        "\n",
        "    # Static method to subtract two numbers\n",
        "    @staticmethod\n",
        "    def subtract_numbers(a, b):\n",
        "        return a - b"
      ],
      "metadata": {
        "id": "o1JnleOv1WTg"
      },
      "execution_count": 15,
      "outputs": []
    },
    {
      "cell_type": "code",
      "source": [
        "#Q.8- Implement a class Person with a class method to count the total number of persons created.\n",
        "\n",
        "class Person:\n",
        "    # Class variable to keep track of count\n",
        "    person_count = 0\n",
        "\n",
        "    def __init__(self, name):\n",
        "        self.name = name\n",
        "        Person.person_count += 1\n",
        "\n",
        "    @classmethod\n",
        "    def get_person_count(cls):\n",
        "        return cls.person_count\n",
        "\n",
        "# Creating Person objects\n",
        "p1 = Person(\"Alice\")\n",
        "p2 = Person(\"Bob\")\n",
        "p3 = Person(\"Charlie\")\n",
        "\n",
        "# Checking total number of persons created\n",
        "print(\"Total persons created:\", Person.get_person_count())"
      ],
      "metadata": {
        "colab": {
          "base_uri": "https://localhost:8080/"
        },
        "id": "S9A3bk6W10q0",
        "outputId": "1f5c60c2-a389-4a74-b793-5c8ecd3af9aa"
      },
      "execution_count": 17,
      "outputs": [
        {
          "output_type": "stream",
          "name": "stdout",
          "text": [
            "Total persons created: 3\n"
          ]
        }
      ]
    },
    {
      "cell_type": "code",
      "source": [
        "#Q.9 - Write a class Fraction with attributes numerator and denominator. Override the str method to display the fraction as \"numerator/denominator\".\n",
        "\n",
        "class Fraction:\n",
        "    def __init__(self, numerator, denominator):\n",
        "        self.numerator = numerator\n",
        "        self.denominator = denominator\n",
        "\n",
        "    def __str__(self):\n",
        "        return f\"{self.numerator}/{self.denominator}\"\n",
        "\n",
        "# Create and print a fraction\n",
        "f1 = Fraction(3, 4)\n",
        "print(f1)  # Output: 3/4\n",
        "\n",
        "f2 = Fraction(7, 2)\n",
        "print(f2)"
      ],
      "metadata": {
        "colab": {
          "base_uri": "https://localhost:8080/"
        },
        "id": "X6SSejh22HUy",
        "outputId": "58244b8f-52e1-4642-ffa9-f30d855f7a1c"
      },
      "execution_count": 18,
      "outputs": [
        {
          "output_type": "stream",
          "name": "stdout",
          "text": [
            "3/4\n",
            "7/2\n"
          ]
        }
      ]
    },
    {
      "cell_type": "code",
      "source": [
        "#Q.10-  Demonstrate operator overloading by creating a class Vector and overriding the add method to add two vectors.\n",
        "\n",
        "class Vector:\n",
        "    def __init__(self, x, y):\n",
        "        self.x = x\n",
        "        self.y = y\n",
        "\n",
        "    # Overload the + operator\n",
        "    def __add__(self, other):\n",
        "        return Vector(self.x + other.x, self.y + other.y)\n",
        "\n",
        "    # String representation\n",
        "    def __str__(self):\n",
        "        return f\"({self.x}, {self.y})\"\n",
        "\n",
        "# Create two vectors\n",
        "v1 = Vector(2, 3)\n",
        "v2 = Vector(4, 1)\n",
        "\n",
        "# Add them using the overloaded + operator\n",
        "v3 = v1 + v2\n",
        "\n",
        "# Print the result\n",
        "print(\"Vector 1:\", v1)\n",
        "print(\"Vector 2:\", v2)\n",
        "print(\"Sum:\", v3)\n"
      ],
      "metadata": {
        "colab": {
          "base_uri": "https://localhost:8080/"
        },
        "id": "61kJSwUp2Rw0",
        "outputId": "5e4306ad-89b0-4cac-efe4-5c8a72e53b8b"
      },
      "execution_count": 19,
      "outputs": [
        {
          "output_type": "stream",
          "name": "stdout",
          "text": [
            "Vector 1: (2, 3)\n",
            "Vector 2: (4, 1)\n",
            "Sum: (6, 4)\n"
          ]
        }
      ]
    },
    {
      "cell_type": "code",
      "source": [
        "#Q.11- Create a class Person with attributes name and age. Add a method greet() that prints \"Hello, my name is {name} and I am {age} years old.\"\n",
        "\n",
        "class Person:\n",
        "    def __init__(self, name, age):\n",
        "        self.name = name\n",
        "        self.age = age\n",
        "\n",
        "    def greet(self):\n",
        "        print(f\"Hello, my name is {self.name} and I am {self.age} years old.\")\n",
        "\n",
        "# Create an instance of Person and call the greet method\n",
        "p1 = Person(\"Alice\", 25)\n",
        "p1.greet()\n"
      ],
      "metadata": {
        "colab": {
          "base_uri": "https://localhost:8080/"
        },
        "id": "j0qbcxMC2ioN",
        "outputId": "7eeb1bb4-a30b-4866-87ac-10a8892943cc"
      },
      "execution_count": 21,
      "outputs": [
        {
          "output_type": "stream",
          "name": "stdout",
          "text": [
            "Hello, my name is Alice and I am 25 years old.\n"
          ]
        }
      ]
    },
    {
      "cell_type": "code",
      "source": [
        "#Q.12- Implement a class Student with attributes name and grades. Create a method average_grade() to compute the average of the grades.\n",
        "\n",
        "class Student:\n",
        "    def __init__(self, name, grades):\n",
        "        self.name = name\n",
        "        self.grades = grades  # grades should be a list of numbers\n",
        "\n",
        "    def average_grade(self):\n",
        "        if not self.grades:\n",
        "            return 0\n",
        "        return sum(self.grades) / len(self.grades)\n",
        "\n",
        "\n",
        "s1 = Student(\"John\", [85, 90, 78, 92])\n",
        "print(f\"{s1.name}'s average grade is: {s1.average_grade():.2f}\")"
      ],
      "metadata": {
        "colab": {
          "base_uri": "https://localhost:8080/"
        },
        "id": "6Qf13MQY21Tp",
        "outputId": "2590d404-d033-420c-dbbb-faf2138453e6"
      },
      "execution_count": 22,
      "outputs": [
        {
          "output_type": "stream",
          "name": "stdout",
          "text": [
            "John's average grade is: 86.25\n"
          ]
        }
      ]
    },
    {
      "cell_type": "code",
      "source": [
        "#Q.13- Create a class Rectangle with methods set_dimensions() to set the dimensions and area() to calculate the area.\n",
        "\n",
        "class Rectangle:\n",
        "    def __init__(self):\n",
        "        self.length = 0\n",
        "        self.width = 0\n",
        "\n",
        "    def set_dimensions(self, length, width):\n",
        "        self.length = length\n",
        "        self.width = width\n",
        "\n",
        "    def area(self):\n",
        "        return self.length * self.width\n",
        "\n",
        "# Example usage\n",
        "rect = Rectangle()\n",
        "rect.set_dimensions(10, 5)\n",
        "print(\"Area of rectangle:\", rect.area())\n"
      ],
      "metadata": {
        "colab": {
          "base_uri": "https://localhost:8080/"
        },
        "id": "seApbpJE3BkO",
        "outputId": "53acac29-098a-4551-f673-9c59daf74599"
      },
      "execution_count": 23,
      "outputs": [
        {
          "output_type": "stream",
          "name": "stdout",
          "text": [
            "Area of rectangle: 50\n"
          ]
        }
      ]
    },
    {
      "cell_type": "code",
      "source": [
        "#Q.14- Create a class Employee with a method calculate_salary() that computes the salary based on hours worked and hourly rate. Create a derived class Manager that adds a bonus to the salary\n",
        "\n",
        "# Base class\n",
        "class Employee:\n",
        "    def __init__(self, name, hours_worked, hourly_rate):\n",
        "        self.name = name\n",
        "        self.hours_worked = hours_worked\n",
        "        self.hourly_rate = hourly_rate\n",
        "\n",
        "    def calculate_salary(self):\n",
        "        return self.hours_worked * self.hourly_rate\n",
        "\n",
        "# Derived class\n",
        "class Manager(Employee):\n",
        "    def __init__(self, name, hours_worked, hourly_rate, bonus):\n",
        "        super().__init__(name, hours_worked, hourly_rate)\n",
        "        self.bonus = bonus\n",
        "\n",
        "    def calculate_salary(self):\n",
        "        base_salary = super().calculate_salary()\n",
        "        return base_salary + self.bonus\n",
        "\n",
        "\n",
        "emp = Employee(\"John\", 40, 20)\n",
        "print(f\"{emp.name}'s Salary: ₹{emp.calculate_salary()}\")\n",
        "\n",
        "mgr = Manager(\"Alice\", 40, 30, 500)\n",
        "print(f\"{mgr.name}'s Salary: ₹{mgr.calculate_salary()}\")\n"
      ],
      "metadata": {
        "colab": {
          "base_uri": "https://localhost:8080/"
        },
        "id": "8FeuyICK3PGx",
        "outputId": "db67a72a-2c22-4a89-8788-93c29d2fd5dd"
      },
      "execution_count": 24,
      "outputs": [
        {
          "output_type": "stream",
          "name": "stdout",
          "text": [
            "John's Salary: ₹800\n",
            "Alice's Salary: ₹1700\n"
          ]
        }
      ]
    },
    {
      "cell_type": "code",
      "source": [
        "#Q.15- Create a class Product with attributes name, price, and quantity. Implement a method total_price() that calculates the total price of the product.\n",
        "\n",
        "class Product:\n",
        "    def __init__(self, name, price, quantity):\n",
        "        self.name = name\n",
        "        self.price = price      # Price per unit\n",
        "        self.quantity = quantity\n",
        "\n",
        "    def total_price(self):\n",
        "        return self.price * self.quantity\n",
        "\n",
        "\n",
        "product1 = Product(\"Laptop\", 50000, 2)\n",
        "print(f\"Total price for {product1.name}s: ₹{product1.total_price()}\")"
      ],
      "metadata": {
        "colab": {
          "base_uri": "https://localhost:8080/"
        },
        "id": "qQvEPA3m3daN",
        "outputId": "36dc8003-32cb-4213-9421-eaaad110a581"
      },
      "execution_count": 25,
      "outputs": [
        {
          "output_type": "stream",
          "name": "stdout",
          "text": [
            "Total price for Laptops: ₹100000\n"
          ]
        }
      ]
    },
    {
      "cell_type": "code",
      "source": [
        "#Q.16- Create a class Animal with an abstract method sound(). Create two derived classes Cow and Sheep that implement the sound() method.\n",
        "\n",
        "from abc import ABC, abstractmethod\n",
        "\n",
        "# Abstract base class\n",
        "class Animal(ABC):\n",
        "    @abstractmethod\n",
        "    def sound(self):\n",
        "        pass\n",
        "\n",
        "# Derived class Cow\n",
        "class Cow(Animal):\n",
        "    def sound(self):\n",
        "        print(\"Cow says Moo!\")\n",
        "\n",
        "# Derived class Sheep\n",
        "class Sheep(Animal):\n",
        "    def sound(self):\n",
        "        print(\"Sheep says Baa!\")\n",
        "\n",
        "\n",
        "cow = Cow()\n",
        "cow.sound()\n",
        "sheep = Sheep()\n",
        "sheep.sound()\n"
      ],
      "metadata": {
        "colab": {
          "base_uri": "https://localhost:8080/"
        },
        "id": "5GqnDfLb3ygW",
        "outputId": "18335444-6012-4d50-fe47-0c7d28ab1d77"
      },
      "execution_count": 27,
      "outputs": [
        {
          "output_type": "stream",
          "name": "stdout",
          "text": [
            "Cow says Moo!\n",
            "Sheep says Baa!\n"
          ]
        }
      ]
    },
    {
      "cell_type": "code",
      "source": [
        "#Q.17- Create a class Book with attributes title, author, and year_published. Add a method get_book_info() that returns a formatted string with the book's details.\n",
        "\n",
        "class Book:\n",
        "    def __init__(self, title, author, year):\n",
        "        self.title = title\n",
        "        self.author = author\n",
        "        self.year = year\n",
        "\n",
        "    def get_info(self):\n",
        "        return f\"{self.title} by {self.author} ({self.year})\"\n",
        "\n",
        "\n",
        "b = Book(\"1984\", \"George Orwell\", 1949)\n",
        "print(b.get_info())  # Output: 1984 by George Orwell (1949)\n"
      ],
      "metadata": {
        "colab": {
          "base_uri": "https://localhost:8080/"
        },
        "id": "fEYSTbwe4AJ2",
        "outputId": "f92f6d33-7a8c-42a6-af34-4488456ad987"
      },
      "execution_count": 29,
      "outputs": [
        {
          "output_type": "stream",
          "name": "stdout",
          "text": [
            "1984 by George Orwell (1949)\n"
          ]
        }
      ]
    },
    {
      "cell_type": "code",
      "source": [
        "#Q.18- Create a class House with attributes address and price. Create a derived class Mansion that adds an attribute number_of_rooms.\n",
        "\n",
        "class House:\n",
        "    def __init__(self, address, price):\n",
        "        self.address = address\n",
        "        self.price = price\n",
        "\n",
        "class Mansion(House):\n",
        "    def __init__(self, address, price, number_of_rooms):\n",
        "        super().__init__(address, price)\n",
        "        self.number_of_rooms = number_of_rooms\n",
        "\n",
        "\n",
        "m = Mansion(\"123 Elite Street\", 50000000, 12)\n",
        "print(f\"Address: {m.address}, Price: ₹{m.price}, Rooms: {m.number_of_rooms}\")\n"
      ],
      "metadata": {
        "colab": {
          "base_uri": "https://localhost:8080/"
        },
        "id": "gi_a1XEy4ZtD",
        "outputId": "6f96c771-249c-44c0-b8d2-7bec33968045"
      },
      "execution_count": 30,
      "outputs": [
        {
          "output_type": "stream",
          "name": "stdout",
          "text": [
            "Address: 123 Elite Street, Price: ₹50000000, Rooms: 12\n"
          ]
        }
      ]
    }
  ]
}